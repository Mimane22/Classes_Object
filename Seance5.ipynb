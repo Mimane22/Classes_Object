{
 "cells": [
  {
   "cell_type": "code",
   "execution_count": 12,
   "id": "ccd5beb4",
   "metadata": {},
   "outputs": [],
   "source": [
    "class Point3D:\n",
    "    def __init__(self,x, y, z):\n",
    "        self.x = x\n",
    "        self.y = y\n",
    "        self.z = z\n"
   ]
  },
  {
   "cell_type": "code",
   "execution_count": 13,
   "id": "4e689fef",
   "metadata": {},
   "outputs": [
    {
     "name": "stdout",
     "output_type": "stream",
     "text": [
      "Les cordonnées du point sont 1, 2 et 3 \n"
     ]
    }
   ],
   "source": [
    "my_point = Point3D(1, 2, 3)\n",
    "print(\"Les cordonnées du point sont {}, {} et {} \".format(my_point.x, my_point.y, my_point.z))"
   ]
  },
  {
   "cell_type": "code",
   "execution_count": 20,
   "id": "ac15e775",
   "metadata": {},
   "outputs": [],
   "source": [
    "class Rectangle:\n",
    "    def __init__(self, width, length):\n",
    "        self.width = width\n",
    "        self.length = length\n",
    "    \n",
    "    def area(self):\n",
    "        return (self.width * self.length)\n",
    "    \n",
    "    def perimeter(self):\n",
    "        return (2 * (self.width + self.length))"
   ]
  },
  {
   "cell_type": "code",
   "execution_count": 21,
   "id": "e087e0b6",
   "metadata": {},
   "outputs": [
    {
     "name": "stdout",
     "output_type": "stream",
     "text": [
      "The area is 12 and the perimeter is 14\n"
     ]
    }
   ],
   "source": [
    "my_rectangle = Rectangle(3, 4)\n",
    "print(\"The area is {} and the perimeter is {}\".format(my_rectangle.area(), my_rectangle.perimeter()))"
   ]
  },
  {
   "cell_type": "code",
   "execution_count": 39,
   "id": "c88e24f4",
   "metadata": {},
   "outputs": [],
   "source": [
    "class Circle():\n",
    "    \n",
    "    pi = 3.14\n",
    "    \n",
    "    def __init__(self, O1, O2, r):\n",
    "        self.O1 = O1\n",
    "        self.O2 = O2\n",
    "        self.r = r\n",
    "    \n",
    "    def area(self):\n",
    "        return (self.pi * (self.r)**2)\n",
    "   \n",
    "    def perimeter(self):\n",
    "        return (2 * self.pi * self.r)\n",
    "    \n",
    "    def isInside(self, x, y):\n",
    "        B = (x - self.O1)**2 + (y - self.O2)**2\n",
    "        if B <= (self.r)**2:\n",
    "            return(\"The point belongs to the circle\")\n",
    "        else:\n",
    "            return(\"The point is out if the circle\")\n",
    "        "
   ]
  },
  {
   "cell_type": "code",
   "execution_count": 40,
   "id": "73b92b56",
   "metadata": {},
   "outputs": [
    {
     "name": "stdout",
     "output_type": "stream",
     "text": [
      "The area is 50.24 and the perimeter is 25.12\n"
     ]
    }
   ],
   "source": [
    "C = Circle(0,0,4)\n",
    "print(\"The area is {} and the perimeter is {}\".format(C.area(), C.perimeter()))"
   ]
  },
  {
   "cell_type": "code",
   "execution_count": 42,
   "id": "646bb274",
   "metadata": {},
   "outputs": [
    {
     "data": {
      "text/plain": [
       "'The point is out if the circle'"
      ]
     },
     "execution_count": 42,
     "metadata": {},
     "output_type": "execute_result"
    }
   ],
   "source": [
    "C.isInside(6, 6)"
   ]
  },
  {
   "cell_type": "code",
   "execution_count": 43,
   "id": "39fdc521",
   "metadata": {},
   "outputs": [
    {
     "data": {
      "text/plain": [
       "'The point belongs to the circle'"
      ]
     },
     "execution_count": 43,
     "metadata": {},
     "output_type": "execute_result"
    }
   ],
   "source": [
    "C.isInside(1, 2)"
   ]
  },
  {
   "cell_type": "code",
   "execution_count": 59,
   "id": "325b1ed3",
   "metadata": {},
   "outputs": [],
   "source": [
    "class bank:\n",
    "    def __init__(self, balance):\n",
    "        self.balance = balance\n",
    "    def deposit(self, x):\n",
    "        if x <= self.balance:\n",
    "            return (\"The new balance of the bank is {}\".format(self.balance - x))\n",
    "        else:\n",
    "            return(\"We don't have all this money\")\n",
    "    def withdraw(self, y):\n",
    "        return (\"The new balance of the bank is {}\".format(self.balance + y))"
   ]
  },
  {
   "cell_type": "code",
   "execution_count": 60,
   "id": "f94e0f5f",
   "metadata": {},
   "outputs": [],
   "source": [
    "Arg = bank(2000)"
   ]
  },
  {
   "cell_type": "code",
   "execution_count": 61,
   "id": "d4a223d2",
   "metadata": {},
   "outputs": [
    {
     "data": {
      "text/plain": [
       "'The new balance of the bank is 500'"
      ]
     },
     "execution_count": 61,
     "metadata": {},
     "output_type": "execute_result"
    }
   ],
   "source": [
    "Arg.deposit(1500)"
   ]
  },
  {
   "cell_type": "code",
   "execution_count": 62,
   "id": "071f6226",
   "metadata": {},
   "outputs": [
    {
     "data": {
      "text/plain": [
       "'The new balance of the bank is 3000'"
      ]
     },
     "execution_count": 62,
     "metadata": {},
     "output_type": "execute_result"
    }
   ],
   "source": [
    "Arg.withdraw(1000)"
   ]
  },
  {
   "cell_type": "code",
   "execution_count": 63,
   "id": "480a6a0b",
   "metadata": {},
   "outputs": [
    {
     "data": {
      "text/plain": [
       "\"We don't have all this money\""
      ]
     },
     "execution_count": 63,
     "metadata": {},
     "output_type": "execute_result"
    }
   ],
   "source": [
    "Arg.deposit(3500)"
   ]
  },
  {
   "cell_type": "code",
   "execution_count": null,
   "id": "773cea6a",
   "metadata": {},
   "outputs": [],
   "source": []
  }
 ],
 "metadata": {
  "kernelspec": {
   "display_name": "Python 3 (ipykernel)",
   "language": "python",
   "name": "python3"
  },
  "language_info": {
   "codemirror_mode": {
    "name": "ipython",
    "version": 3
   },
   "file_extension": ".py",
   "mimetype": "text/x-python",
   "name": "python",
   "nbconvert_exporter": "python",
   "pygments_lexer": "ipython3",
   "version": "3.9.7"
  }
 },
 "nbformat": 4,
 "nbformat_minor": 5
}
